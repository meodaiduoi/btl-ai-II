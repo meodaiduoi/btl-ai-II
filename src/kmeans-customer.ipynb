{
 "cells": [
  {
   "cell_type": "markdown",
   "source": [
    "<h1 align='center'>Giới thiệu về K-Means clustering (Phân cụm K-Means)</h1>\r\n",
    "\r\n",
    "Phân cụm là kỹ thuật rất quan trọng trong khai phá dữ liệu, nó thuộc lớp các phương pháp Unsupervised Learning trong Machine Learning. Có rất nhiều định nghĩa khác nhau về kỹ thuật này, nhưng về bản chất ta có thể hiểu phân cụm là các qui trình tìm cách nhóm các đối tượng đã cho vào các cụm (clusters), sao cho các đối tượng trong cùng 1 cụm tương tự (similar) nhau và các đối tượng khác cụm thì không tương tự (Dissimilar) nhau.\r\n",
    "\r\n",
    "Mục đích của phân cụm là tìm ra bản chất bên trong các nhóm của dữ liệu. Các thuật toán phân cụm (Clustering Algorithms) đều sinh ra các cụm (clusters). Tuy nhiên, không có tiêu chí nào là được xem là tốt nhất để đánh hiệu của của phân tích phân cụm, điều này phụ thuộc vào mục đích của phân cụm như: data reduction, “natural clusters”, “useful” clusters, outlier detection\r\n",
    "\r\n",
    "Kỹ thuật phân cụm có thể áp dụng trong rất nhiều lĩnh vực như:\r\n",
    "\r\n",
    "Marketing: Xác định các nhóm khách hàng (khách hàng tiềm năng, khách hàng giá trị, phân loại và dự đoán hành vi khách hàng,…) sử dụng sản phẩm hay dịch vụ của công ty để giúp công ty có chiến lược kinh doanh hiệu quả hơn;\r\n",
    "Biology: Phận nhóm động vật và thực vật dựa vào các thuộc tính của chúng;\r\n",
    "Libraries:  Theo dõi độc giả, sách, dự đoán nhu cầu của độc giả…;\r\n",
    "Insurance, Finance: Phân nhóm các đối tượng sử dụng bảo hiểm và các dịch vụ tài chính, dự đoán xu hướng (trend) của khách hàng, phát hiện gian lận tài chính (identifying frauds);"
   ],
   "metadata": {}
  },
  {
   "cell_type": "markdown",
   "source": [
    "## Thuật toán K-Means thực hiện qua các bước chính sau:\r\n",
    "1.    Chọn ngẫu nhiên K tâm (centroid) cho K cụm (cluster). Mỗi cụm được đại diện bằng các tâm của cụm.\r\n",
    "2.    Tính khoảng cách giữa các đối tượng (objects) đến K tâm (thường dùng khoảng cách Euclidean)\r\n",
    "3.    Nhóm các đối tượng vào nhóm gần nhất\r\n",
    "4.    Xác định lại tâm mới cho các nhóm\r\n",
    "5.    Thực hiện lại bước 2 cho đến khi không có sự thay đổi nhóm nào của các đối tượng"
   ],
   "metadata": {}
  },
  {
   "cell_type": "code",
   "execution_count": 151,
   "source": [
    "# https://medium.com/machine-learning-algorithms-from-scratch/k-means-clustering-from-scratch-in-python-1675d38eee42\r\n",
    "# https://medium.com/nerd-for-tech/k-means-python-implementation-from-scratch-8400f30b8e5c\r\n",
    "\r\n",
    "import pandas as pd\r\n",
    "\r\n",
    "import numpy as np\r\n",
    "from numpy import random\r\n",
    "\r\n",
    "import matplotlib.pyplot as plt\r\n",
    "%matplotlib inline\r\n",
    "plt.rcParams[\"figure.figsize\"] = [10, 5]\r\n",
    "\r\n",
    "from matplotlib import style\r\n",
    "style.use('ggplot')"
   ],
   "outputs": [],
   "metadata": {}
  },
  {
   "cell_type": "markdown",
   "source": [
    "## Load và đánh giá dữ liệu đầu vào\r\n",
    "Mua sắm là\r\n",
    "Bộ dữ liệu "
   ],
   "metadata": {}
  },
  {
   "cell_type": "code",
   "execution_count": 173,
   "source": [
    "# load dataset\r\n",
    "dataset = pd.read_csv('../ds/kmeans-customer/Mall_Customers.csv')\r\n",
    "dataset"
   ],
   "outputs": [
    {
     "output_type": "execute_result",
     "data": {
      "text/html": [
       "<div>\n",
       "<style scoped>\n",
       "    .dataframe tbody tr th:only-of-type {\n",
       "        vertical-align: middle;\n",
       "    }\n",
       "\n",
       "    .dataframe tbody tr th {\n",
       "        vertical-align: top;\n",
       "    }\n",
       "\n",
       "    .dataframe thead th {\n",
       "        text-align: right;\n",
       "    }\n",
       "</style>\n",
       "<table border=\"1\" class=\"dataframe\">\n",
       "  <thead>\n",
       "    <tr style=\"text-align: right;\">\n",
       "      <th></th>\n",
       "      <th>CustomerID</th>\n",
       "      <th>Gender</th>\n",
       "      <th>Age</th>\n",
       "      <th>Annual Income (k$)</th>\n",
       "      <th>Spending Score (1-100)</th>\n",
       "    </tr>\n",
       "  </thead>\n",
       "  <tbody>\n",
       "    <tr>\n",
       "      <th>0</th>\n",
       "      <td>1</td>\n",
       "      <td>1</td>\n",
       "      <td>19</td>\n",
       "      <td>15</td>\n",
       "      <td>39</td>\n",
       "    </tr>\n",
       "    <tr>\n",
       "      <th>1</th>\n",
       "      <td>2</td>\n",
       "      <td>1</td>\n",
       "      <td>21</td>\n",
       "      <td>15</td>\n",
       "      <td>81</td>\n",
       "    </tr>\n",
       "    <tr>\n",
       "      <th>2</th>\n",
       "      <td>3</td>\n",
       "      <td>0</td>\n",
       "      <td>20</td>\n",
       "      <td>16</td>\n",
       "      <td>6</td>\n",
       "    </tr>\n",
       "    <tr>\n",
       "      <th>3</th>\n",
       "      <td>4</td>\n",
       "      <td>0</td>\n",
       "      <td>23</td>\n",
       "      <td>16</td>\n",
       "      <td>77</td>\n",
       "    </tr>\n",
       "    <tr>\n",
       "      <th>4</th>\n",
       "      <td>5</td>\n",
       "      <td>0</td>\n",
       "      <td>31</td>\n",
       "      <td>17</td>\n",
       "      <td>40</td>\n",
       "    </tr>\n",
       "    <tr>\n",
       "      <th>...</th>\n",
       "      <td>...</td>\n",
       "      <td>...</td>\n",
       "      <td>...</td>\n",
       "      <td>...</td>\n",
       "      <td>...</td>\n",
       "    </tr>\n",
       "    <tr>\n",
       "      <th>195</th>\n",
       "      <td>196</td>\n",
       "      <td>0</td>\n",
       "      <td>35</td>\n",
       "      <td>120</td>\n",
       "      <td>79</td>\n",
       "    </tr>\n",
       "    <tr>\n",
       "      <th>196</th>\n",
       "      <td>197</td>\n",
       "      <td>0</td>\n",
       "      <td>45</td>\n",
       "      <td>126</td>\n",
       "      <td>28</td>\n",
       "    </tr>\n",
       "    <tr>\n",
       "      <th>197</th>\n",
       "      <td>198</td>\n",
       "      <td>1</td>\n",
       "      <td>32</td>\n",
       "      <td>126</td>\n",
       "      <td>74</td>\n",
       "    </tr>\n",
       "    <tr>\n",
       "      <th>198</th>\n",
       "      <td>199</td>\n",
       "      <td>1</td>\n",
       "      <td>32</td>\n",
       "      <td>137</td>\n",
       "      <td>18</td>\n",
       "    </tr>\n",
       "    <tr>\n",
       "      <th>199</th>\n",
       "      <td>200</td>\n",
       "      <td>1</td>\n",
       "      <td>30</td>\n",
       "      <td>137</td>\n",
       "      <td>83</td>\n",
       "    </tr>\n",
       "  </tbody>\n",
       "</table>\n",
       "<p>200 rows × 5 columns</p>\n",
       "</div>"
      ],
      "text/plain": [
       "     CustomerID  Gender  Age  Annual Income (k$)  Spending Score (1-100)\n",
       "0             1       1   19                  15                      39\n",
       "1             2       1   21                  15                      81\n",
       "2             3       0   20                  16                       6\n",
       "3             4       0   23                  16                      77\n",
       "4             5       0   31                  17                      40\n",
       "..          ...     ...  ...                 ...                     ...\n",
       "195         196       0   35                 120                      79\n",
       "196         197       0   45                 126                      28\n",
       "197         198       1   32                 126                      74\n",
       "198         199       1   32                 137                      18\n",
       "199         200       1   30                 137                      83\n",
       "\n",
       "[200 rows x 5 columns]"
      ]
     },
     "metadata": {},
     "execution_count": 173
    }
   ],
   "metadata": {}
  },
  {
   "cell_type": "markdown",
   "source": [
    "## Đánh giá sơ bộ về dataset được cung cấp:\r\n",
    "Bộ dữ liệu cung cấp đươc chiếm đa số bởi nữ giới: 0.44 </br>\r\n",
    "Độ tuổi trung bình rơi vào 39 tuổi trong đó\r\n",
    "* 25%: 29 tuổi\r\n",
    "* 50%: 36 tuổi\r\n",
    "* 75%: 49 tuổi\r\n",
    "Số chi tiêu trung bình rơi vào "
   ],
   "metadata": {}
  },
  {
   "cell_type": "code",
   "execution_count": 172,
   "source": [
    "dataset.describe()"
   ],
   "outputs": [
    {
     "output_type": "execute_result",
     "data": {
      "text/html": [
       "<div>\n",
       "<style scoped>\n",
       "    .dataframe tbody tr th:only-of-type {\n",
       "        vertical-align: middle;\n",
       "    }\n",
       "\n",
       "    .dataframe tbody tr th {\n",
       "        vertical-align: top;\n",
       "    }\n",
       "\n",
       "    .dataframe thead th {\n",
       "        text-align: right;\n",
       "    }\n",
       "</style>\n",
       "<table border=\"1\" class=\"dataframe\">\n",
       "  <thead>\n",
       "    <tr style=\"text-align: right;\">\n",
       "      <th></th>\n",
       "      <th>CustomerID</th>\n",
       "      <th>Gender</th>\n",
       "      <th>Age</th>\n",
       "      <th>Annual Income (k$)</th>\n",
       "      <th>Spending Score (1-100)</th>\n",
       "      <th>Label</th>\n",
       "    </tr>\n",
       "  </thead>\n",
       "  <tbody>\n",
       "    <tr>\n",
       "      <th>count</th>\n",
       "      <td>200.000000</td>\n",
       "      <td>200.000000</td>\n",
       "      <td>200.000000</td>\n",
       "      <td>200.000000</td>\n",
       "      <td>200.000000</td>\n",
       "      <td>200.000000</td>\n",
       "    </tr>\n",
       "    <tr>\n",
       "      <th>mean</th>\n",
       "      <td>100.500000</td>\n",
       "      <td>0.440000</td>\n",
       "      <td>38.850000</td>\n",
       "      <td>60.560000</td>\n",
       "      <td>50.200000</td>\n",
       "      <td>1.510000</td>\n",
       "    </tr>\n",
       "    <tr>\n",
       "      <th>std</th>\n",
       "      <td>57.879185</td>\n",
       "      <td>0.497633</td>\n",
       "      <td>13.969007</td>\n",
       "      <td>26.264721</td>\n",
       "      <td>25.823522</td>\n",
       "      <td>1.530231</td>\n",
       "    </tr>\n",
       "    <tr>\n",
       "      <th>min</th>\n",
       "      <td>1.000000</td>\n",
       "      <td>0.000000</td>\n",
       "      <td>18.000000</td>\n",
       "      <td>15.000000</td>\n",
       "      <td>1.000000</td>\n",
       "      <td>0.000000</td>\n",
       "    </tr>\n",
       "    <tr>\n",
       "      <th>25%</th>\n",
       "      <td>50.750000</td>\n",
       "      <td>0.000000</td>\n",
       "      <td>28.750000</td>\n",
       "      <td>41.500000</td>\n",
       "      <td>34.750000</td>\n",
       "      <td>0.000000</td>\n",
       "    </tr>\n",
       "    <tr>\n",
       "      <th>50%</th>\n",
       "      <td>100.500000</td>\n",
       "      <td>0.000000</td>\n",
       "      <td>36.000000</td>\n",
       "      <td>61.500000</td>\n",
       "      <td>50.000000</td>\n",
       "      <td>1.000000</td>\n",
       "    </tr>\n",
       "    <tr>\n",
       "      <th>75%</th>\n",
       "      <td>150.250000</td>\n",
       "      <td>1.000000</td>\n",
       "      <td>49.000000</td>\n",
       "      <td>78.000000</td>\n",
       "      <td>73.000000</td>\n",
       "      <td>3.000000</td>\n",
       "    </tr>\n",
       "    <tr>\n",
       "      <th>max</th>\n",
       "      <td>200.000000</td>\n",
       "      <td>1.000000</td>\n",
       "      <td>70.000000</td>\n",
       "      <td>137.000000</td>\n",
       "      <td>99.000000</td>\n",
       "      <td>4.000000</td>\n",
       "    </tr>\n",
       "  </tbody>\n",
       "</table>\n",
       "</div>"
      ],
      "text/plain": [
       "       CustomerID      Gender         Age  Annual Income (k$)  \\\n",
       "count  200.000000  200.000000  200.000000          200.000000   \n",
       "mean   100.500000    0.440000   38.850000           60.560000   \n",
       "std     57.879185    0.497633   13.969007           26.264721   \n",
       "min      1.000000    0.000000   18.000000           15.000000   \n",
       "25%     50.750000    0.000000   28.750000           41.500000   \n",
       "50%    100.500000    0.000000   36.000000           61.500000   \n",
       "75%    150.250000    1.000000   49.000000           78.000000   \n",
       "max    200.000000    1.000000   70.000000          137.000000   \n",
       "\n",
       "       Spending Score (1-100)       Label  \n",
       "count              200.000000  200.000000  \n",
       "mean                50.200000    1.510000  \n",
       "std                 25.823522    1.530231  \n",
       "min                  1.000000    0.000000  \n",
       "25%                 34.750000    0.000000  \n",
       "50%                 50.000000    1.000000  \n",
       "75%                 73.000000    3.000000  \n",
       "max                 99.000000    4.000000  "
      ]
     },
     "metadata": {},
     "execution_count": 172
    }
   ],
   "metadata": {}
  },
  {
   "cell_type": "code",
   "execution_count": 153,
   "source": [
    "# https://towardsdatascience.com/k-means-clustering-implementation-2018-ac5cd1e51d0a\r\n",
    "# https://medium.com/@rishit.dagli/build-k-means-from-scratch-in-python-e46bf68aa875\r\n",
    "class KMeans ():\r\n",
    "    def __init__(self, X, clusters, seed, iterations=300):\r\n",
    "        random.seed(seed)\r\n",
    "\r\n",
    "        self.K = clusters\r\n",
    "        self.X = X\r\n",
    "        self.iterations = iterations\r\n",
    "        self.features = X.shape[1]\r\n",
    "        self.data_size = X.shape[0]\r\n",
    "\r\n",
    "    def initRandomCentroids(self, X):\r\n",
    "        centroids = np.zeros((self.K, self.features))\r\n",
    "        for k in range(self.K):\r\n",
    "            centroid = X[np.random.choice(range(self.data_size))]\r\n",
    "            centroids[k] = centroid\r\n",
    "        return centroids\r\n",
    "\r\n",
    "    def intClusters(self, X, centroids):\r\n",
    "        # Will contain a list of the points that are associated with that specific cluster\r\n",
    "        clusters = [[] for _ in range(self.K)]\r\n",
    "\r\n",
    "        # Loop through each point and check which is the closest cluster\r\n",
    "        for point_idx, point in enumerate(X):\r\n",
    "            closest_centroid = np.argmin(\r\n",
    "                np.sqrt(np.sum((point - centroids) ** 2, axis=1))\r\n",
    "            )\r\n",
    "            clusters[closest_centroid].append(point_idx)\r\n",
    "        return clusters\r\n",
    "\r\n",
    "    def calculateNewCentroids(self, clusters, X):\r\n",
    "        centroids = np.zeros((self.K, self.features))\r\n",
    "        for idx, cluster in enumerate(clusters):\r\n",
    "            new_centroid = np.mean(X[cluster], axis=0)\r\n",
    "            centroids[idx] = new_centroid\r\n",
    "        return centroids\r\n",
    "\r\n",
    "    def predictCluster(self, clusters, X):\r\n",
    "        y_pred = np.zeros(self.data_size)\r\n",
    "\r\n",
    "        for cluster_idx, cluster in enumerate(clusters):\r\n",
    "            for sample_idx in cluster:\r\n",
    "                y_pred[sample_idx] = cluster_idx\r\n",
    "        return y_pred\r\n",
    "\r\n",
    "    def labledData(self, X, y_pred):\r\n",
    "        labeled_data = {}\r\n",
    "        X_list = X.tolist()\r\n",
    "        for i in range(y_pred.size):\r\n",
    "            if y_pred[i] not in labeled_data:\r\n",
    "                labeled_data[y_pred[i]] = [X_list[i]]\r\n",
    "            else:\r\n",
    "                labeled_data[y_pred[i]].append(X_list[i])\r\n",
    "\r\n",
    "        for key in labeled_data:\r\n",
    "            np_labled_data = labeled_data[key]\r\n",
    "        return labeled_data\r\n",
    "\r\n",
    "    # fit\r\n",
    "    def fit(self):\r\n",
    "        centroids = self.initRandomCentroids(self.X)\r\n",
    "\r\n",
    "        for it in range(self.iterations):\r\n",
    "            clusters = self.intClusters (self.X, centroids)\r\n",
    "\r\n",
    "            previous_centroids = centroids\r\n",
    "            centroids = self.calculateNewCentroids(clusters, self.X)\r\n",
    "\r\n",
    "            diff = centroids - previous_centroids\r\n",
    "\r\n",
    "            if not diff.any():\r\n",
    "                print(\"Termination criterion satisfied\")\r\n",
    "                break\r\n",
    "\r\n",
    "        # Get label predictions\r\n",
    "        y_pred = self.predictCluster(clusters, self.X)\r\n",
    "\r\n",
    "        # Get labeled data\r\n",
    "        labeled_data = self.labledData(self.X, y_pred)\r\n",
    "\r\n",
    "        wcss=0\r\n",
    "        for k in range(self.K):\r\n",
    "            wcss+=np.sum((np.array(labeled_data[k])-centroids[k])**2)\r\n",
    "\r\n",
    "        return y_pred, centroids, wcss"
   ],
   "outputs": [],
   "metadata": {}
  },
  {
   "cell_type": "code",
   "execution_count": 154,
   "source": [
    "def plotEbow(X, K, seed):\r\n",
    "    wcss_array = []\r\n",
    "    for k in range(1, K):\r\n",
    "        y, centroids, wcss = KMeans(X, k, seed).fit()\r\n",
    "        wcss_array = np.append(wcss_array, wcss)\r\n",
    "\r\n",
    "    plt.plot(np.arange(1, K), wcss_array)\r\n",
    "    plt.xlabel('Number of Clusters')\r\n",
    "    plt.ylabel('within-cluster sums of squares (WCSS)')\r\n",
    "    plt.title('Elbow method to determine optimum number of clusters')\r\n",
    "    plt.show()"
   ],
   "outputs": [],
   "metadata": {}
  },
  {
   "cell_type": "markdown",
   "source": [
    "## Đánh giá số lượng features để phân cụm bằng Within Sum Square:\r\n",
    "WCSS là phương pháp đánh giá khoảng cách trung bình của cụm tới trung tâm cụm đó. Để tính ra WCSS trước tiên ta cần tính ra khoảng cách Euclidean giữa từng điểm trong phân cụm tới tâm phân cụm đó. Sau khi tính được khoảng cách tất cả điểm trong phân cụm tới tâm phân cụm đó.\r\n",
    "$$ \\text{WCSS}=\\sum _{i=1}^k \\sum _{x=S_i} \\|X-\\mu _i\\|^2"
   ],
   "metadata": {}
  },
  {
   "cell_type": "code",
   "execution_count": 210,
   "source": [
    "seed=53"
   ],
   "outputs": [],
   "metadata": {}
  },
  {
   "cell_type": "code",
   "execution_count": 211,
   "source": [
    "X = dataset.iloc[:, [1, 2, 3, 4]].values\r\n",
    "plotEbow(X, 7, seed)"
   ],
   "outputs": [
    {
     "output_type": "stream",
     "name": "stdout",
     "text": [
      "Termination criterion satisfied\n",
      "Termination criterion satisfied\n",
      "Termination criterion satisfied\n",
      "Termination criterion satisfied\n",
      "Termination criterion satisfied\n",
      "Termination criterion satisfied\n"
     ]
    },
    {
     "output_type": "display_data",
     "data": {
      "image/png": "[encoded data removed]",
      "text/plain": [
       "<Figure size 720x360 with 1 Axes>"
      ]
     },
     "metadata": {}
    }
   ],
   "metadata": {}
  },
  {
   "cell_type": "code",
   "execution_count": 212,
   "source": [
    "X = dataset.iloc[:, [2, 3, 4]].values\r\n",
    "plotEbow(X, 7, seed)"
   ],
   "outputs": [
    {
     "output_type": "stream",
     "name": "stdout",
     "text": [
      "Termination criterion satisfied\n",
      "Termination criterion satisfied\n",
      "Termination criterion satisfied\n",
      "Termination criterion satisfied\n",
      "Termination criterion satisfied\n",
      "Termination criterion satisfied\n"
     ]
    },
    {
     "output_type": "display_data",
     "data": {
      "image/png": "[encoded data removed]",
      "text/plain": [
       "<Figure size 720x360 with 1 Axes>"
      ]
     },
     "metadata": {}
    }
   ],
   "metadata": {}
  },
  {
   "cell_type": "markdown",
   "source": [
    "Ở đây a thấy việc sử dung có hay không có features Gender không gây ảnh hưởng việc phân cụm nhóm dữ liệu, vậy nên để cho tối giản ta lựa chọn 3 features chính là <code>Age, Annual Income (k$), Spending Score (1-100)</code>"
   ],
   "metadata": {}
  },
  {
   "cell_type": "markdown",
   "source": [
    "## **Lựa chọn Within-Cluster Sum of Square (WCSS)**"
   ],
   "metadata": {}
  },
  {
   "cell_type": "code",
   "execution_count": 226,
   "source": [
    "# Cluster and add label to dataset\r\n",
    "model =  KMeans(X, 4, seed)\r\n",
    "Y, centroids, wcss = model.fit()\r\n",
    "Y = Y.astype(int)\r\n",
    "dataset['Label'] = Y.tolist()\r\n",
    "dataset"
   ],
   "outputs": [
    {
     "output_type": "stream",
     "name": "stdout",
     "text": [
      "Termination criterion satisfied\n"
     ]
    },
    {
     "output_type": "execute_result",
     "data": {
      "text/html": [
       "<div>\n",
       "<style scoped>\n",
       "    .dataframe tbody tr th:only-of-type {\n",
       "        vertical-align: middle;\n",
       "    }\n",
       "\n",
       "    .dataframe tbody tr th {\n",
       "        vertical-align: top;\n",
       "    }\n",
       "\n",
       "    .dataframe thead th {\n",
       "        text-align: right;\n",
       "    }\n",
       "</style>\n",
       "<table border=\"1\" class=\"dataframe\">\n",
       "  <thead>\n",
       "    <tr style=\"text-align: right;\">\n",
       "      <th></th>\n",
       "      <th>CustomerID</th>\n",
       "      <th>Gender</th>\n",
       "      <th>Age</th>\n",
       "      <th>Annual Income (k$)</th>\n",
       "      <th>Spending Score (1-100)</th>\n",
       "      <th>Label</th>\n",
       "    </tr>\n",
       "  </thead>\n",
       "  <tbody>\n",
       "    <tr>\n",
       "      <th>0</th>\n",
       "      <td>1</td>\n",
       "      <td>1</td>\n",
       "      <td>19</td>\n",
       "      <td>15</td>\n",
       "      <td>39</td>\n",
       "      <td>1</td>\n",
       "    </tr>\n",
       "    <tr>\n",
       "      <th>1</th>\n",
       "      <td>2</td>\n",
       "      <td>1</td>\n",
       "      <td>21</td>\n",
       "      <td>15</td>\n",
       "      <td>81</td>\n",
       "      <td>1</td>\n",
       "    </tr>\n",
       "    <tr>\n",
       "      <th>2</th>\n",
       "      <td>3</td>\n",
       "      <td>0</td>\n",
       "      <td>20</td>\n",
       "      <td>16</td>\n",
       "      <td>6</td>\n",
       "      <td>0</td>\n",
       "    </tr>\n",
       "    <tr>\n",
       "      <th>3</th>\n",
       "      <td>4</td>\n",
       "      <td>0</td>\n",
       "      <td>23</td>\n",
       "      <td>16</td>\n",
       "      <td>77</td>\n",
       "      <td>1</td>\n",
       "    </tr>\n",
       "    <tr>\n",
       "      <th>4</th>\n",
       "      <td>5</td>\n",
       "      <td>0</td>\n",
       "      <td>31</td>\n",
       "      <td>17</td>\n",
       "      <td>40</td>\n",
       "      <td>0</td>\n",
       "    </tr>\n",
       "    <tr>\n",
       "      <th>...</th>\n",
       "      <td>...</td>\n",
       "      <td>...</td>\n",
       "      <td>...</td>\n",
       "      <td>...</td>\n",
       "      <td>...</td>\n",
       "      <td>...</td>\n",
       "    </tr>\n",
       "    <tr>\n",
       "      <th>195</th>\n",
       "      <td>196</td>\n",
       "      <td>0</td>\n",
       "      <td>35</td>\n",
       "      <td>120</td>\n",
       "      <td>79</td>\n",
       "      <td>3</td>\n",
       "    </tr>\n",
       "    <tr>\n",
       "      <th>196</th>\n",
       "      <td>197</td>\n",
       "      <td>0</td>\n",
       "      <td>45</td>\n",
       "      <td>126</td>\n",
       "      <td>28</td>\n",
       "      <td>2</td>\n",
       "    </tr>\n",
       "    <tr>\n",
       "      <th>197</th>\n",
       "      <td>198</td>\n",
       "      <td>1</td>\n",
       "      <td>32</td>\n",
       "      <td>126</td>\n",
       "      <td>74</td>\n",
       "      <td>3</td>\n",
       "    </tr>\n",
       "    <tr>\n",
       "      <th>198</th>\n",
       "      <td>199</td>\n",
       "      <td>1</td>\n",
       "      <td>32</td>\n",
       "      <td>137</td>\n",
       "      <td>18</td>\n",
       "      <td>2</td>\n",
       "    </tr>\n",
       "    <tr>\n",
       "      <th>199</th>\n",
       "      <td>200</td>\n",
       "      <td>1</td>\n",
       "      <td>30</td>\n",
       "      <td>137</td>\n",
       "      <td>83</td>\n",
       "      <td>3</td>\n",
       "    </tr>\n",
       "  </tbody>\n",
       "</table>\n",
       "<p>200 rows × 6 columns</p>\n",
       "</div>"
      ],
      "text/plain": [
       "     CustomerID  Gender  Age  Annual Income (k$)  Spending Score (1-100)  \\\n",
       "0             1       1   19                  15                      39   \n",
       "1             2       1   21                  15                      81   \n",
       "2             3       0   20                  16                       6   \n",
       "3             4       0   23                  16                      77   \n",
       "4             5       0   31                  17                      40   \n",
       "..          ...     ...  ...                 ...                     ...   \n",
       "195         196       0   35                 120                      79   \n",
       "196         197       0   45                 126                      28   \n",
       "197         198       1   32                 126                      74   \n",
       "198         199       1   32                 137                      18   \n",
       "199         200       1   30                 137                      83   \n",
       "\n",
       "     Label  \n",
       "0        1  \n",
       "1        1  \n",
       "2        0  \n",
       "3        1  \n",
       "4        0  \n",
       "..     ...  \n",
       "195      3  \n",
       "196      2  \n",
       "197      3  \n",
       "198      2  \n",
       "199      3  \n",
       "\n",
       "[200 rows x 6 columns]"
      ]
     },
     "metadata": {},
     "execution_count": 226
    }
   ],
   "metadata": {}
  },
  {
   "cell_type": "markdown",
   "source": [
    "## Đánh giá sơ bộ các clusters"
   ],
   "metadata": {}
  },
  {
   "cell_type": "code",
   "execution_count": 247,
   "source": [
    "def plotGroupsStatistics(dataframe, x_name, y_name):\r\n",
    "    ax = dataframe.plot.barh(x=x_name, y=y_name)\r\n",
    "    ax.bar_label(ax.containers[0])"
   ],
   "outputs": [],
   "metadata": {}
  },
  {
   "cell_type": "code",
   "execution_count": 249,
   "source": [
    "label_df = dataset[['Label']]\r\n",
    "label_df_count = label_df.value_counts().reset_index(name='Count')\r\n",
    "label_df_count"
   ],
   "outputs": [
    {
     "output_type": "execute_result",
     "data": {
      "text/html": [
       "<div>\n",
       "<style scoped>\n",
       "    .dataframe tbody tr th:only-of-type {\n",
       "        vertical-align: middle;\n",
       "    }\n",
       "\n",
       "    .dataframe tbody tr th {\n",
       "        vertical-align: top;\n",
       "    }\n",
       "\n",
       "    .dataframe thead th {\n",
       "        text-align: right;\n",
       "    }\n",
       "</style>\n",
       "<table border=\"1\" class=\"dataframe\">\n",
       "  <thead>\n",
       "    <tr style=\"text-align: right;\">\n",
       "      <th></th>\n",
       "      <th>Label</th>\n",
       "      <th>Count</th>\n",
       "    </tr>\n",
       "  </thead>\n",
       "  <tbody>\n",
       "    <tr>\n",
       "      <th>0</th>\n",
       "      <td>0</td>\n",
       "      <td>96</td>\n",
       "    </tr>\n",
       "    <tr>\n",
       "      <th>1</th>\n",
       "      <td>3</td>\n",
       "      <td>39</td>\n",
       "    </tr>\n",
       "    <tr>\n",
       "      <th>2</th>\n",
       "      <td>2</td>\n",
       "      <td>38</td>\n",
       "    </tr>\n",
       "    <tr>\n",
       "      <th>3</th>\n",
       "      <td>1</td>\n",
       "      <td>27</td>\n",
       "    </tr>\n",
       "  </tbody>\n",
       "</table>\n",
       "</div>"
      ],
      "text/plain": [
       "   Label  Count\n",
       "0      0     96\n",
       "1      3     39\n",
       "2      2     38\n",
       "3      1     27"
      ]
     },
     "metadata": {},
     "execution_count": 249
    }
   ],
   "metadata": {}
  },
  {
   "cell_type": "code",
   "execution_count": 250,
   "source": [
    "plotGroupsStatistics(label_df_count, 'Label', 'Count')"
   ],
   "outputs": [
    {
     "output_type": "display_data",
     "data": {
      "image/png": "[encoded data removed]",
      "text/plain": [
       "<Figure size 720x360 with 1 Axes>"
      ]
     },
     "metadata": {}
    }
   ],
   "metadata": {}
  },
  {
   "cell_type": "code",
   "execution_count": 228,
   "source": [
    "gender_statistics = dataset.groupby(['Gender', 'Label'])['Gender'].size().reset_index(name='Count')\r\n",
    "gender_statistics"
   ],
   "outputs": [
    {
     "output_type": "execute_result",
     "data": {
      "text/html": [
       "<div>\n",
       "<style scoped>\n",
       "    .dataframe tbody tr th:only-of-type {\n",
       "        vertical-align: middle;\n",
       "    }\n",
       "\n",
       "    .dataframe tbody tr th {\n",
       "        vertical-align: top;\n",
       "    }\n",
       "\n",
       "    .dataframe thead th {\n",
       "        text-align: right;\n",
       "    }\n",
       "</style>\n",
       "<table border=\"1\" class=\"dataframe\">\n",
       "  <thead>\n",
       "    <tr style=\"text-align: right;\">\n",
       "      <th></th>\n",
       "      <th>Gender</th>\n",
       "      <th>Label</th>\n",
       "      <th>Count</th>\n",
       "    </tr>\n",
       "  </thead>\n",
       "  <tbody>\n",
       "    <tr>\n",
       "      <th>0</th>\n",
       "      <td>0</td>\n",
       "      <td>0</td>\n",
       "      <td>59</td>\n",
       "    </tr>\n",
       "    <tr>\n",
       "      <th>1</th>\n",
       "      <td>0</td>\n",
       "      <td>1</td>\n",
       "      <td>14</td>\n",
       "    </tr>\n",
       "    <tr>\n",
       "      <th>2</th>\n",
       "      <td>0</td>\n",
       "      <td>2</td>\n",
       "      <td>18</td>\n",
       "    </tr>\n",
       "    <tr>\n",
       "      <th>3</th>\n",
       "      <td>0</td>\n",
       "      <td>3</td>\n",
       "      <td>21</td>\n",
       "    </tr>\n",
       "    <tr>\n",
       "      <th>4</th>\n",
       "      <td>1</td>\n",
       "      <td>0</td>\n",
       "      <td>37</td>\n",
       "    </tr>\n",
       "    <tr>\n",
       "      <th>5</th>\n",
       "      <td>1</td>\n",
       "      <td>1</td>\n",
       "      <td>13</td>\n",
       "    </tr>\n",
       "    <tr>\n",
       "      <th>6</th>\n",
       "      <td>1</td>\n",
       "      <td>2</td>\n",
       "      <td>20</td>\n",
       "    </tr>\n",
       "    <tr>\n",
       "      <th>7</th>\n",
       "      <td>1</td>\n",
       "      <td>3</td>\n",
       "      <td>18</td>\n",
       "    </tr>\n",
       "  </tbody>\n",
       "</table>\n",
       "</div>"
      ],
      "text/plain": [
       "   Gender  Label  Count\n",
       "0       0      0     59\n",
       "1       0      1     14\n",
       "2       0      2     18\n",
       "3       0      3     21\n",
       "4       1      0     37\n",
       "5       1      1     13\n",
       "6       1      2     20\n",
       "7       1      3     18"
      ]
     },
     "metadata": {},
     "execution_count": 228
    }
   ],
   "metadata": {}
  },
  {
   "cell_type": "code",
   "execution_count": 229,
   "source": [
    "# visual gender per cluster\r\n",
    "# !TODO https://matplotlib.org/stable/gallery/lines_bars_and_markers/bar_stacked.html#sphx-glr-gallery-lines-bars-and-markers-bar-stacked-py\r\n",
    "\r\n",
    "def plotGenderStatistics(dataset):\r\n",
    "    data_len_haft = int(len(dataset.index)/2)\r\n",
    "    # X value\r\n",
    "    label = dataset['Label'].unique().tolist()\r\n",
    "    # Y value\r\n",
    "    female = dataset['Count'].iloc[:data_len_haft].values\r\n",
    "    male = dataset['Count'].iloc[data_len_haft:].values\r\n",
    "    # Bar setting\r\n",
    "    x = np.arange(len(label))  # the label locations\r\n",
    "    width = 0.35  # the width of the bars\r\n",
    "\r\n",
    "    bar1 = plt.bar(x - width/2, male, width, color = 'r')\r\n",
    "    bar2 = plt.bar(x + width/2, female, width, color='b')\r\n",
    "\r\n",
    "    plt.xlabel('Groups')\r\n",
    "    plt.ylabel('Number of people')\r\n",
    "    plt.title('Gender statistics')\r\n",
    "\r\n",
    "    plt.legend((bar1, bar2), ('Male', 'Female'))\r\n",
    "    plt.show()\r\n",
    "\r\n",
    "plotGenderStatistics(gender_statistics)"
   ],
   "outputs": [
    {
     "output_type": "display_data",
     "data": {
      "image/png": "[encoded data removed]",
      "text/plain": [
       "<Figure size 720x360 with 1 Axes>"
      ]
     },
     "metadata": {}
    }
   ],
   "metadata": {}
  },
  {
   "cell_type": "markdown",
   "source": [
    "## Đánh giá chỉ số trung bình tại mỗi nhóm:"
   ],
   "metadata": {}
  },
  {
   "cell_type": "code",
   "execution_count": 230,
   "source": [
    "def plotMeanValue(dataframe, x_name, y_name):\r\n",
    "    ax = dataframe.plot.bar(x=x_name, y=y_name)\r\n",
    "    ax.bar_label(ax.containers[0])"
   ],
   "outputs": [],
   "metadata": {}
  },
  {
   "cell_type": "code",
   "execution_count": 231,
   "source": [
    "age_df = dataset[['Age','Label']]\r\n",
    "age_df_mean = age_df.groupby('Label').mean().reset_index()\r\n",
    "age_df_mean"
   ],
   "outputs": [
    {
     "output_type": "execute_result",
     "data": {
      "text/html": [
       "<div>\n",
       "<style scoped>\n",
       "    .dataframe tbody tr th:only-of-type {\n",
       "        vertical-align: middle;\n",
       "    }\n",
       "\n",
       "    .dataframe tbody tr th {\n",
       "        vertical-align: top;\n",
       "    }\n",
       "\n",
       "    .dataframe thead th {\n",
       "        text-align: right;\n",
       "    }\n",
       "</style>\n",
       "<table border=\"1\" class=\"dataframe\">\n",
       "  <thead>\n",
       "    <tr style=\"text-align: right;\">\n",
       "      <th></th>\n",
       "      <th>Label</th>\n",
       "      <th>Age</th>\n",
       "    </tr>\n",
       "  </thead>\n",
       "  <tbody>\n",
       "    <tr>\n",
       "      <th>0</th>\n",
       "      <td>0</td>\n",
       "      <td>44.770833</td>\n",
       "    </tr>\n",
       "    <tr>\n",
       "      <th>1</th>\n",
       "      <td>1</td>\n",
       "      <td>24.518519</td>\n",
       "    </tr>\n",
       "    <tr>\n",
       "      <th>2</th>\n",
       "      <td>2</td>\n",
       "      <td>40.394737</td>\n",
       "    </tr>\n",
       "    <tr>\n",
       "      <th>3</th>\n",
       "      <td>3</td>\n",
       "      <td>32.692308</td>\n",
       "    </tr>\n",
       "  </tbody>\n",
       "</table>\n",
       "</div>"
      ],
      "text/plain": [
       "   Label        Age\n",
       "0      0  44.770833\n",
       "1      1  24.518519\n",
       "2      2  40.394737\n",
       "3      3  32.692308"
      ]
     },
     "metadata": {},
     "execution_count": 231
    }
   ],
   "metadata": {}
  },
  {
   "cell_type": "code",
   "execution_count": 232,
   "source": [
    "plotMeanValue(age_df_mean, 'Label', 'Age')"
   ],
   "outputs": [
    {
     "output_type": "display_data",
     "data": {
      "image/png": "[encoded data removed]",
      "text/plain": [
       "<Figure size 720x360 with 1 Axes>"
      ]
     },
     "metadata": {}
    }
   ],
   "metadata": {}
  },
  {
   "cell_type": "code",
   "execution_count": 233,
   "source": [
    "income_df = dataset[['Annual Income (k$)','Label']]\r\n",
    "income_df_mean = income_df.groupby('Label').mean().reset_index()\r\n",
    "income_df_mean"
   ],
   "outputs": [
    {
     "output_type": "execute_result",
     "data": {
      "text/html": [
       "<div>\n",
       "<style scoped>\n",
       "    .dataframe tbody tr th:only-of-type {\n",
       "        vertical-align: middle;\n",
       "    }\n",
       "\n",
       "    .dataframe tbody tr th {\n",
       "        vertical-align: top;\n",
       "    }\n",
       "\n",
       "    .dataframe thead th {\n",
       "        text-align: right;\n",
       "    }\n",
       "</style>\n",
       "<table border=\"1\" class=\"dataframe\">\n",
       "  <thead>\n",
       "    <tr style=\"text-align: right;\">\n",
       "      <th></th>\n",
       "      <th>Label</th>\n",
       "      <th>Annual Income (k$)</th>\n",
       "    </tr>\n",
       "  </thead>\n",
       "  <tbody>\n",
       "    <tr>\n",
       "      <th>0</th>\n",
       "      <td>0</td>\n",
       "      <td>48.635417</td>\n",
       "    </tr>\n",
       "    <tr>\n",
       "      <th>1</th>\n",
       "      <td>1</td>\n",
       "      <td>28.222222</td>\n",
       "    </tr>\n",
       "    <tr>\n",
       "      <th>2</th>\n",
       "      <td>2</td>\n",
       "      <td>87.000000</td>\n",
       "    </tr>\n",
       "    <tr>\n",
       "      <th>3</th>\n",
       "      <td>3</td>\n",
       "      <td>86.538462</td>\n",
       "    </tr>\n",
       "  </tbody>\n",
       "</table>\n",
       "</div>"
      ],
      "text/plain": [
       "   Label  Annual Income (k$)\n",
       "0      0           48.635417\n",
       "1      1           28.222222\n",
       "2      2           87.000000\n",
       "3      3           86.538462"
      ]
     },
     "metadata": {},
     "execution_count": 233
    }
   ],
   "metadata": {}
  },
  {
   "cell_type": "code",
   "execution_count": 234,
   "source": [
    "plotMeanValue(income_df_mean, 'Label', 'Annual Income (k$)')"
   ],
   "outputs": [
    {
     "output_type": "display_data",
     "data": {
      "image/png": "[encoded data removed]",
      "text/plain": [
       "<Figure size 720x360 with 1 Axes>"
      ]
     },
     "metadata": {}
    }
   ],
   "metadata": {}
  },
  {
   "cell_type": "code",
   "execution_count": 235,
   "source": [
    "spending_score_df = dataset[['Spending Score (1-100)','Label']]\r\n",
    "spending_score_df_mean = spending_score_df.groupby('Label').mean().reset_index()\r\n",
    "spending_score_df_mean"
   ],
   "outputs": [
    {
     "output_type": "execute_result",
     "data": {
      "text/html": [
       "<div>\n",
       "<style scoped>\n",
       "    .dataframe tbody tr th:only-of-type {\n",
       "        vertical-align: middle;\n",
       "    }\n",
       "\n",
       "    .dataframe tbody tr th {\n",
       "        vertical-align: top;\n",
       "    }\n",
       "\n",
       "    .dataframe thead th {\n",
       "        text-align: right;\n",
       "    }\n",
       "</style>\n",
       "<table border=\"1\" class=\"dataframe\">\n",
       "  <thead>\n",
       "    <tr style=\"text-align: right;\">\n",
       "      <th></th>\n",
       "      <th>Label</th>\n",
       "      <th>Spending Score (1-100)</th>\n",
       "    </tr>\n",
       "  </thead>\n",
       "  <tbody>\n",
       "    <tr>\n",
       "      <th>0</th>\n",
       "      <td>0</td>\n",
       "      <td>42.812500</td>\n",
       "    </tr>\n",
       "    <tr>\n",
       "      <th>1</th>\n",
       "      <td>1</td>\n",
       "      <td>74.777778</td>\n",
       "    </tr>\n",
       "    <tr>\n",
       "      <th>2</th>\n",
       "      <td>2</td>\n",
       "      <td>18.631579</td>\n",
       "    </tr>\n",
       "    <tr>\n",
       "      <th>3</th>\n",
       "      <td>3</td>\n",
       "      <td>82.128205</td>\n",
       "    </tr>\n",
       "  </tbody>\n",
       "</table>\n",
       "</div>"
      ],
      "text/plain": [
       "   Label  Spending Score (1-100)\n",
       "0      0               42.812500\n",
       "1      1               74.777778\n",
       "2      2               18.631579\n",
       "3      3               82.128205"
      ]
     },
     "metadata": {},
     "execution_count": 235
    }
   ],
   "metadata": {}
  },
  {
   "cell_type": "code",
   "execution_count": 236,
   "source": [
    "plotMeanValue(spending_score_df_mean, 'Label', 'Spending Score (1-100)')"
   ],
   "outputs": [
    {
     "output_type": "display_data",
     "data": {
      "image/png": "[encoded data removed]",
      "text/plain": [
       "<Figure size 720x360 with 1 Axes>"
      ]
     },
     "metadata": {}
    }
   ],
   "metadata": {}
  },
  {
   "cell_type": "markdown",
   "source": [
    "## Mô tả các Cluster trên biểu đồ"
   ],
   "metadata": {}
  },
  {
   "cell_type": "code",
   "execution_count": 237,
   "source": [
    "# gender_statistics.pivot(index='Label', columns='Gender', values='Count').plot(kind='bar')\r\n",
    "\r\n",
    "dataset.plot.scatter(x='Age', y='Annual Income (k$)', c='Label', colormap='viridis')"
   ],
   "outputs": [
    {
     "output_type": "execute_result",
     "data": {
      "text/plain": [
       "<AxesSubplot:xlabel='Age', ylabel='Annual Income (k$)'>"
      ]
     },
     "metadata": {},
     "execution_count": 237
    },
    {
     "output_type": "display_data",
     "data": {
      "image/png": "[encoded data removed]",
      "text/plain": [
       "<Figure size 720x360 with 2 Axes>"
      ]
     },
     "metadata": {}
    }
   ],
   "metadata": {}
  },
  {
   "cell_type": "code",
   "execution_count": 238,
   "source": [
    "def plotMeansData(dataset, y_name, x_name, title):\r\n",
    "    "
   ],
   "outputs": [
    {
     "output_type": "error",
     "ename": "IndentationError",
     "evalue": "expected an indented block (Temp/ipykernel_12808/1188977199.py, line 2)",
     "traceback": [
      "\u001b[1;36m  File \u001b[1;32m\"C:\\Users\\meoda\\AppData\\Local\\Temp/ipykernel_12808/1188977199.py\"\u001b[1;36m, line \u001b[1;32m2\u001b[0m\n\u001b[1;33m    \u001b[0m\n\u001b[1;37m    ^\u001b[0m\n\u001b[1;31mIndentationError\u001b[0m\u001b[1;31m:\u001b[0m expected an indented block\n"
     ]
    }
   ],
   "metadata": {}
  },
  {
   "cell_type": "code",
   "execution_count": null,
   "source": [
    "# def clusterVisuallizer(dataset, clusters):\r\n",
    "#     fig, ax = plt.subplots(1, figsize=(8,8))\r\n",
    "#     # plot data\r\n",
    "#     plt.scatter(df.Attack, df.Defense, c=df.c, alpha = 0.6, s=10)\r\n",
    "#     # plot centroids\r\n",
    "#     plt.scatter(cen_x, cen_y, marker='^', c=colors, s=70)\r\n",
    "#     # plot lines\r\n",
    "#     for idx, val in df.iterrows():\r\n",
    "#         x = [val.Attack, val.cen_x,]\r\n",
    "#         y = [val.Defense, val.cen_y]\r\n",
    "#         plt.plot(x, y, c=val.c, alpha=0.2)\r\n",
    "#     # legend\r\n",
    "#     legend_elements = [Line2D([0], [0], marker='o', color='w', label='Cluster {}'.format(i+1), \r\n",
    "#                        markerfacecolor=mcolor, markersize=5) for i, mcolor in enumerate(colors)]\r\n",
    "#     legend_elements.extend([Line2D([0], [0], marker='^', color='w', label='Centroid - C{}'.format(i+1), \r\n",
    "#                 markerfacecolor=mcolor, markersize=10) for i, mcolor in enumerate(colors)])\r\n",
    "#     legend_elements.extend(cent_leg)\r\n",
    "#     plt.legend(handles=legend_elements, loc='upper right', ncol=2)\r\n",
    "#     # x and y limits\r\n",
    "#     plt.xlim(0,200)\r\n",
    "#     plt.ylim(0,200)\r\n",
    "#     # title and labels\r\n",
    "#     plt.title('Pokemon Stats\\n', loc='left', fontsize=22)\r\n",
    "#     plt.xlabel('Attack')\r\n",
    "#     plt.ylabel('Defense')"
   ],
   "outputs": [
    {
     "output_type": "error",
     "ename": "IndentationError",
     "evalue": "expected an indented block (Temp/ipykernel_11672/2602184833.py, line 1)",
     "traceback": [
      "\u001b[1;36m  File \u001b[1;32m\"C:\\Users\\meoda\\AppData\\Local\\Temp/ipykernel_11672/2602184833.py\"\u001b[1;36m, line \u001b[1;32m1\u001b[0m\n\u001b[1;33m    def clusterVisuallizer(dataset):\u001b[0m\n\u001b[1;37m                                    ^\u001b[0m\n\u001b[1;31mIndentationError\u001b[0m\u001b[1;31m:\u001b[0m expected an indented block\n"
     ]
    }
   ],
   "metadata": {}
  },
  {
   "cell_type": "code",
   "execution_count": null,
   "source": [
    "# visual cluster\r\n",
    "# cluster group https://nikkimarinsek.com/blog/7-ways-to-label-a-cluster-plot-python\r\n",
    "\r\n",
    "# cluster heatmap\r\n",
    "# https://stackoverflow.com/questions/2369492/generate-a-heatmap-in-matplotlib-using-a-scatter-data-set\r\n",
    "\r\n",
    "# sumerizae\r\n",
    "# https://www.bigendiandata.com/2017-04-18-Jupyter_Customer360/"
   ],
   "outputs": [],
   "metadata": {}
  }
 ],
 "metadata": {
  "orig_nbformat": 4,
  "language_info": {
   "name": "python",
   "version": "3.9.7",
   "mimetype": "text/x-python",
   "codemirror_mode": {
    "name": "ipython",
    "version": 3
   },
   "pygments_lexer": "ipython3",
   "nbconvert_exporter": "python",
   "file_extension": ".py"
  },
  "kernelspec": {
   "name": "python3",
   "display_name": "Python 3.9.7 64-bit (system)"
  },
  "interpreter": {
   "hash": "23ff1fb2e7d1354e2fc9f71eb6a34944b3897406745ea80621d3be47be77c881"
  }
 },
 "nbformat": 4,
 "nbformat_minor": 2
}