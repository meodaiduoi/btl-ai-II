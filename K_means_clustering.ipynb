{
 "cells": [
  {
   "cell_type": "markdown",
   "source": [
    "# K Means Clustering"
   ],
   "metadata": {}
  },
  {
   "cell_type": "markdown",
   "source": [
    "Steps involved in K Means Clustering\n",
    "1. Initialize two examples of the training data set as Centroids using Kmeans++ or random initialization\n",
    "2. Loop over the num of iterations to perform the clustering.\n",
    "   2.a. For each training example compute the euclidian distance from the centroid and assign the cluster\n",
    "   based on the minimal distance.\n",
    "   2.b Adjust the centroid of each cluster by taking the average of all the training examples which belonged \n",
    "   to that cluster on the basis of the computations performed in step 2.a"
   ],
   "metadata": {}
  },
  {
   "cell_type": "code",
   "execution_count": 11,
   "source": [
    "#import libraries\r\n",
    "import numpy as np\r\n",
    "import matplotlib.pyplot as plt\r\n",
    "import pandas as pd\r\n",
    "import random as rd"
   ],
   "outputs": [],
   "metadata": {}
  },
  {
   "cell_type": "code",
   "execution_count": 12,
   "source": [
    "# -*- coding: utf-8 -*-\r\n",
    "\"\"\"\r\n",
    "Created on Wed Dec 12 16:35:06 2018\r\n",
    "\r\n",
    "@author: purandur\r\n",
    "\"\"\"\r\n",
    "import numpy as np\r\n",
    "import random as rd\r\n",
    "class Kmeans:\r\n",
    "    def __init__(self,X,K):\r\n",
    "        self.X=X\r\n",
    "        self.Output={}\r\n",
    "        self.Centroids=np.array([]).reshape(self.X.shape[1],0)\r\n",
    "        self.K=K\r\n",
    "        self.m=self.X.shape[0]\r\n",
    "        \r\n",
    "    def kmeanspp(self,X,K):\r\n",
    "        i=rd.randint(0,X.shape[0])\r\n",
    "        Centroid_temp=np.array([X[i]])\r\n",
    "        for k in range(1,K):\r\n",
    "            D=np.array([]) \r\n",
    "            for x in X:\r\n",
    "                D=np.append(D,np.min(np.sum((x-Centroid_temp)**2)))\r\n",
    "            prob=D/np.sum(D)\r\n",
    "            cummulative_prob=np.cumsum(prob)\r\n",
    "            r=rd.random()\r\n",
    "            i=0\r\n",
    "            for j,p in enumerate(cummulative_prob):\r\n",
    "                if r<p:\r\n",
    "                    i=j\r\n",
    "                    break\r\n",
    "            Centroid_temp=np.append(Centroid_temp,[X[i]],axis=0)\r\n",
    "        return Centroid_temp.T\r\n",
    "    \r\n",
    "    def fit(self,n_iter):\r\n",
    "        #randomly Initialize the centroids\r\n",
    "        self.Centroids=self.kmeanspp(self.X,self.K)\r\n",
    "        \r\n",
    "        \"\"\"for i in range(self.K):\r\n",
    "            rand=rd.randint(0,self.m-1)\r\n",
    "            self.Centroids=np.c_[self.Centroids,self.X[rand]]\"\"\"\r\n",
    "        \r\n",
    "        #compute euclidian distances and assign clusters\r\n",
    "        for n in range(n_iter):\r\n",
    "            EuclidianDistance=np.array([]).reshape(self.m,0)\r\n",
    "            for k in range(self.K):\r\n",
    "                tempDist=np.sum((self.X-self.Centroids[:,k])**2,axis=1)\r\n",
    "                EuclidianDistance=np.c_[EuclidianDistance,tempDist]\r\n",
    "            C=np.argmin(EuclidianDistance,axis=1)+1\r\n",
    "            #adjust the centroids\r\n",
    "            Y={}\r\n",
    "            for k in range(self.K):\r\n",
    "                Y[k+1]=np.array([]).reshape(2,0)\r\n",
    "            for i in range(self.m):\r\n",
    "                Y[C[i]]=np.c_[Y[C[i]],self.X[i]]\r\n",
    "        \r\n",
    "            for k in range(self.K):\r\n",
    "                Y[k+1]=Y[k+1].T\r\n",
    "            for k in range(self.K):\r\n",
    "                self.Centroids[:,k]=np.mean(Y[k+1],axis=0)\r\n",
    "                \r\n",
    "            self.Output=Y\r\n",
    "            \r\n",
    "    \r\n",
    "    def predict(self):\r\n",
    "        return self.Output,self.Centroids.T\r\n",
    "    \r\n",
    "    def WCSS(self):\r\n",
    "        wcss=0\r\n",
    "        for k in range(self.K):\r\n",
    "            wcss+=np.sum((self.Output[k+1]-self.Centroids[:,k])**2)\r\n",
    "        return wcss"
   ],
   "outputs": [],
   "metadata": {}
  },
  {
   "cell_type": "code",
   "execution_count": 13,
   "source": [
    "dataset=pd.read_csv('ds/kmeans-customer/Mall_Customers.csv')"
   ],
   "outputs": [],
   "metadata": {}
  },
  {
   "cell_type": "code",
   "execution_count": 14,
   "source": [
    "X = dataset.iloc[:, [3, 4]].values"
   ],
   "outputs": [],
   "metadata": {}
  },
  {
   "cell_type": "code",
   "execution_count": 15,
   "source": [
    "dataset.describe()"
   ],
   "outputs": [
    {
     "output_type": "execute_result",
     "data": {
      "text/html": [
       "<div>\n",
       "<style scoped>\n",
       "    .dataframe tbody tr th:only-of-type {\n",
       "        vertical-align: middle;\n",
       "    }\n",
       "\n",
       "    .dataframe tbody tr th {\n",
       "        vertical-align: top;\n",
       "    }\n",
       "\n",
       "    .dataframe thead th {\n",
       "        text-align: right;\n",
       "    }\n",
       "</style>\n",
       "<table border=\"1\" class=\"dataframe\">\n",
       "  <thead>\n",
       "    <tr style=\"text-align: right;\">\n",
       "      <th></th>\n",
       "      <th>CustomerID</th>\n",
       "      <th>Gender</th>\n",
       "      <th>Age</th>\n",
       "      <th>Annual Income (k$)</th>\n",
       "      <th>Spending Score (1-100)</th>\n",
       "    </tr>\n",
       "  </thead>\n",
       "  <tbody>\n",
       "    <tr>\n",
       "      <th>count</th>\n",
       "      <td>200.000000</td>\n",
       "      <td>200.000000</td>\n",
       "      <td>200.000000</td>\n",
       "      <td>200.000000</td>\n",
       "      <td>200.000000</td>\n",
       "    </tr>\n",
       "    <tr>\n",
       "      <th>mean</th>\n",
       "      <td>100.500000</td>\n",
       "      <td>0.440000</td>\n",
       "      <td>38.850000</td>\n",
       "      <td>60.560000</td>\n",
       "      <td>50.200000</td>\n",
       "    </tr>\n",
       "    <tr>\n",
       "      <th>std</th>\n",
       "      <td>57.879185</td>\n",
       "      <td>0.497633</td>\n",
       "      <td>13.969007</td>\n",
       "      <td>26.264721</td>\n",
       "      <td>25.823522</td>\n",
       "    </tr>\n",
       "    <tr>\n",
       "      <th>min</th>\n",
       "      <td>1.000000</td>\n",
       "      <td>0.000000</td>\n",
       "      <td>18.000000</td>\n",
       "      <td>15.000000</td>\n",
       "      <td>1.000000</td>\n",
       "    </tr>\n",
       "    <tr>\n",
       "      <th>25%</th>\n",
       "      <td>50.750000</td>\n",
       "      <td>0.000000</td>\n",
       "      <td>28.750000</td>\n",
       "      <td>41.500000</td>\n",
       "      <td>34.750000</td>\n",
       "    </tr>\n",
       "    <tr>\n",
       "      <th>50%</th>\n",
       "      <td>100.500000</td>\n",
       "      <td>0.000000</td>\n",
       "      <td>36.000000</td>\n",
       "      <td>61.500000</td>\n",
       "      <td>50.000000</td>\n",
       "    </tr>\n",
       "    <tr>\n",
       "      <th>75%</th>\n",
       "      <td>150.250000</td>\n",
       "      <td>1.000000</td>\n",
       "      <td>49.000000</td>\n",
       "      <td>78.000000</td>\n",
       "      <td>73.000000</td>\n",
       "    </tr>\n",
       "    <tr>\n",
       "      <th>max</th>\n",
       "      <td>200.000000</td>\n",
       "      <td>1.000000</td>\n",
       "      <td>70.000000</td>\n",
       "      <td>137.000000</td>\n",
       "      <td>99.000000</td>\n",
       "    </tr>\n",
       "  </tbody>\n",
       "</table>\n",
       "</div>"
      ],
      "text/plain": [
       "       CustomerID      Gender         Age  Annual Income (k$)  \\\n",
       "count  200.000000  200.000000  200.000000          200.000000   \n",
       "mean   100.500000    0.440000   38.850000           60.560000   \n",
       "std     57.879185    0.497633   13.969007           26.264721   \n",
       "min      1.000000    0.000000   18.000000           15.000000   \n",
       "25%     50.750000    0.000000   28.750000           41.500000   \n",
       "50%    100.500000    0.000000   36.000000           61.500000   \n",
       "75%    150.250000    1.000000   49.000000           78.000000   \n",
       "max    200.000000    1.000000   70.000000          137.000000   \n",
       "\n",
       "       Spending Score (1-100)  \n",
       "count              200.000000  \n",
       "mean                50.200000  \n",
       "std                 25.823522  \n",
       "min                  1.000000  \n",
       "25%                 34.750000  \n",
       "50%                 50.000000  \n",
       "75%                 73.000000  \n",
       "max                 99.000000  "
      ]
     },
     "metadata": {},
     "execution_count": 15
    }
   ],
   "metadata": {}
  },
  {
   "cell_type": "code",
   "execution_count": 16,
   "source": [
    "m=X.shape[0]\r\n",
    "n_iter=100"
   ],
   "outputs": [],
   "metadata": {}
  },
  {
   "cell_type": "code",
   "execution_count": 17,
   "source": [
    "#to find optimum number of clusters use elbow method\r\n",
    "WCSS_array=np.array([])\r\n",
    "for K in range(1,11):\r\n",
    "    kmeans=Kmeans(X,K)\r\n",
    "    kmeans.fit(n_iter)\r\n",
    "    Output,Centroids=kmeans.predict()\r\n",
    "    wcss=0\r\n",
    "    for k in range(K):\r\n",
    "        wcss+=np.sum((Output[k+1]-Centroids[k,:])**2)\r\n",
    "    #WCSS_array=np.append(WCSS_array,kmeans.WCSS())\r\n",
    "    WCSS_array=np.append(WCSS_array,wcss)"
   ],
   "outputs": [],
   "metadata": {}
  },
  {
   "cell_type": "code",
   "execution_count": 36,
   "source": [
    "K_array=np.arange(1,11,1)\r\n",
    "plt.plot(K_array,WCSS_array)\r\n",
    "plt.xlabel('Number of Clusters')\r\n",
    "plt.ylabel('within-cluster sums of squares (WCSS)')\r\n",
    "plt.title('Elbow method to determine optimum number of clusters')\r\n",
    "plt.show()"
   ],
   "outputs": [
    {
     "output_type": "display_data",
     "data": {
      "image/png": "[encoded data removed]",
      "text/plain": [
       "<Figure size 432x288 with 1 Axes>"
      ]
     },
     "metadata": {
      "needs_background": "light"
     }
    }
   ],
   "metadata": {}
  },
  {
   "cell_type": "markdown",
   "source": [
    "The idea is that we want a small WCSS, but that the WCSS tends to decrease toward 0 as we increase k (the WCSS is 0 when k is equal to the number of data points in the dataset, because then each data point is its own cluster, and there is no error between it and the center of its cluster). So our goal is to choose a small value of k that still has a low WCSS, and the elbow usually represents where we start to have diminishing returns by increasing k."
   ],
   "metadata": {}
  },
  {
   "cell_type": "code",
   "execution_count": 42,
   "source": [
    "#based on these observations we choose 5 as optimum number of clusters\r\n",
    "K=20"
   ],
   "outputs": [],
   "metadata": {}
  },
  {
   "cell_type": "code",
   "execution_count": 43,
   "source": [
    "kmeans=Kmeans(X,K)\r\n",
    "kmeans.fit(n_iter)\r\n",
    "Output,Centroids=kmeans.predict()\r\n",
    "print(type(Output[2]))\r\n",
    "print(Centroids)"
   ],
   "outputs": [
    {
     "output_type": "stream",
     "name": "stderr",
     "text": [
      "D:\\Program File\\scoop\\apps\\python\\current\\lib\\site-packages\\numpy\\core\\fromnumeric.py:3419: RuntimeWarning: Mean of empty slice.\n",
      "  return _methods._mean(a, axis=axis, dtype=dtype,\n",
      "D:\\Program File\\scoop\\apps\\python\\current\\lib\\site-packages\\numpy\\core\\_methods.py:180: RuntimeWarning: invalid value encountered in true_divide\n",
      "  ret = um.true_divide(\n"
     ]
    },
    {
     "output_type": "stream",
     "name": "stdout",
     "text": [
      "<class 'numpy.ndarray'>\n",
      "[[                  59                   52]\n",
      " [                  84                   15]\n",
      " [                 100                   89]\n",
      " [                  17                   77]\n",
      " [                  26                   93]\n",
      " [                  85                   84]\n",
      " [                 112                   72]\n",
      " [                  29                   72]\n",
      " [                 127                   20]\n",
      " [                  61                   42]\n",
      " [                  28                   33]\n",
      " [-9223372036854775808 -9223372036854775808]\n",
      " [                  76                   73]\n",
      " [                 102                   22]\n",
      " [                 137                   83]\n",
      " [                  75                   91]\n",
      " [                  77                   31]\n",
      " [                  24                    9]\n",
      " [                  75                    6]\n",
      " [                  45                   51]]\n"
     ]
    }
   ],
   "metadata": {}
  },
  {
   "cell_type": "code",
   "execution_count": 35,
   "source": [
    "k = 0\r\n",
    "\r\n",
    "# print(Output[k+1])\r\n",
    "# print(Centroids[k,:])\r\n",
    "\r\n",
    "np.sum(Output[k+1]-Centroids[k,:])"
   ],
   "outputs": [
    {
     "output_type": "execute_result",
     "data": {
      "text/plain": [
       "116.0"
      ]
     },
     "metadata": {},
     "execution_count": 35
    }
   ],
   "metadata": {}
  },
  {
   "cell_type": "code",
   "execution_count": 21,
   "source": [
    "color=['red','blue','green','cyan','magenta']\r\n",
    "labels=['cluster1','cluster2','cluster3','cluster4','cluster5']\r\n",
    "for k in range(K):\r\n",
    "    plt.scatter(Output[k+1][:,0],Output[k+1][:,1],c=color[k],label=labels[k])\r\n",
    "plt.scatter(Centroids[:,0],Centroids[:,1],s=300,c='yellow',label='Centroids')\r\n",
    "plt.title('Clusters of customers')\r\n",
    "plt.xlabel('Annual Income (k$)')\r\n",
    "plt.ylabel('Spending Score (1-100)')\r\n",
    "plt.legend()\r\n",
    "plt.show()"
   ],
   "outputs": [
    {
     "output_type": "display_data",
     "data": {
      "image/png": "[encoded data removed]",
      "text/plain": [
       "<Figure size 432x288 with 1 Axes>"
      ]
     },
     "metadata": {
      "needs_background": "light"
     }
    }
   ],
   "metadata": {}
  },
  {
   "cell_type": "code",
   "execution_count": 22,
   "source": [
    "#lets implement the same algorithm using sklearn libraries\r\n",
    "# Using the elbow method to find the optimal number of clusters\r\n",
    "from sklearn.cluster import KMeans\r\n",
    "wcss = []\r\n",
    "for i in range(1, 11):\r\n",
    "    kmeans = KMeans(n_clusters = i, init = 'k-means++', random_state = 42)\r\n",
    "    kmeans.fit(X)\r\n",
    "    wcss.append(kmeans.inertia_)\r\n",
    "plt.plot(range(1, 11), wcss)\r\n",
    "plt.title('The Elbow Method')\r\n",
    "plt.xlabel('Number of clusters')\r\n",
    "plt.ylabel('WCSS')\r\n",
    "plt.show()"
   ],
   "outputs": [
    {
     "output_type": "display_data",
     "data": {
      "image/png": "[encoded data removed]",
      "text/plain": [
       "<Figure size 432x288 with 1 Axes>"
      ]
     },
     "metadata": {
      "needs_background": "light"
     }
    }
   ],
   "metadata": {}
  },
  {
   "cell_type": "code",
   "execution_count": 23,
   "source": [
    "# Fitting K-Means to the dataset\r\n",
    "kmeans = KMeans(n_clusters = 5, init = 'k-means++', random_state = 42)\r\n",
    "y_kmeans = kmeans.fit_predict(X)"
   ],
   "outputs": [],
   "metadata": {}
  },
  {
   "cell_type": "code",
   "execution_count": 24,
   "source": [
    "# Visualising the clusters\r\n",
    "plt.scatter(X[y_kmeans == 0, 0], X[y_kmeans == 0, 1], s = 100, c = 'red', label = 'Cluster 1')\r\n",
    "plt.scatter(X[y_kmeans == 1, 0], X[y_kmeans == 1, 1], s = 100, c = 'blue', label = 'Cluster 2')\r\n",
    "plt.scatter(X[y_kmeans == 2, 0], X[y_kmeans == 2, 1], s = 100, c = 'green', label = 'Cluster 3')\r\n",
    "plt.scatter(X[y_kmeans == 3, 0], X[y_kmeans == 3, 1], s = 100, c = 'cyan', label = 'Cluster 4')\r\n",
    "plt.scatter(X[y_kmeans == 4, 0], X[y_kmeans == 4, 1], s = 100, c = 'magenta', label = 'Cluster 5')\r\n",
    "plt.scatter(kmeans.cluster_centers_[:, 0], kmeans.cluster_centers_[:, 1], s = 300, c = 'yellow', label = 'Centroids')\r\n",
    "plt.title('Clusters of customers')\r\n",
    "plt.xlabel('Annual Income (k$)')\r\n",
    "plt.ylabel('Spending Score (1-100)')\r\n",
    "plt.legend()\r\n",
    "plt.show()"
   ],
   "outputs": [
    {
     "output_type": "display_data",
     "data": {
      "image/png": "[encoded data removed]",
      "text/plain": [
       "<Figure size 432x288 with 1 Axes>"
      ]
     },
     "metadata": {
      "needs_background": "light"
     }
    }
   ],
   "metadata": {}
  }
 ],
 "metadata": {
  "kernelspec": {
   "name": "python3",
   "display_name": "Python 3.9.7 64-bit (system)"
  },
  "language_info": {
   "codemirror_mode": {
    "name": "ipython",
    "version": 3
   },
   "file_extension": ".py",
   "mimetype": "text/x-python",
   "name": "python",
   "nbconvert_exporter": "python",
   "pygments_lexer": "ipython3",
   "version": "3.9.7"
  },
  "interpreter": {
   "hash": "23ff1fb2e7d1354e2fc9f71eb6a34944b3897406745ea80621d3be47be77c881"
  }
 },
 "nbformat": 4,
 "nbformat_minor": 2
}